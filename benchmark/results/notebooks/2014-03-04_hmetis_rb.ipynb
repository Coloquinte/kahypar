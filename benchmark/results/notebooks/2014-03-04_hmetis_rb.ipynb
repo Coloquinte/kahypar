{
 "metadata": {
  "name": "",
  "signature": "sha256:6e5b35786c3cde37295cf3dd0de4815ef813a690c5aafef89dc3871d5b9770fd"
 },
 "nbformat": 3,
 "nbformat_minor": 0,
 "worksheets": [
  {
   "cells": [
    {
     "cell_type": "code",
     "collapsed": false,
     "input": [
      "import pandas as pd\n",
      "data = pd.read_csv('/home/schlag/repo/schlag_git/benchmark/results/2014-03-04_hmetis_rb/results.csv')\n",
      "min_cuts = data.groupby('graph')['cut'].min()\n",
      "min_cuts"
     ],
     "language": "python",
     "metadata": {},
     "outputs": [
      {
       "metadata": {},
       "output_type": "pyout",
       "prompt_number": 5,
       "text": [
        "graph\n",
        "avqlarge      142\n",
        "avqsmall      142\n",
        "bcsstk32     4667\n",
        "crystk01      420\n",
        "cs4           373\n",
        "ibm03         958\n",
        "ibm04         586\n",
        "ibm05        1723\n",
        "industry2     179\n",
        "memplus      5691\n",
        "s15850         57\n",
        "s35932         43\n",
        "s38584         49\n",
        "s3rmq4m1      360\n",
        "vibrobox     1990\n",
        "Name: cut, dtype: float64"
       ]
      }
     ],
     "prompt_number": 5
    },
    {
     "cell_type": "code",
     "collapsed": false,
     "input": [
      "from scipy import stats\n",
      "print 'geometric mean (min_cuts)=', stats.gmean(min_cuts)"
     ],
     "language": "python",
     "metadata": {},
     "outputs": [
      {
       "output_type": "stream",
       "stream": "stdout",
       "text": [
        "geometric mean (min_cuts)= 404.070526294\n"
       ]
      }
     ],
     "prompt_number": 7
    },
    {
     "cell_type": "code",
     "collapsed": false,
     "input": [
      "average_cuts = data.groupby('graph')['cut'].mean()\n",
      "print 'geometric mean (avg  cuts)=', stats.gmean(average_cuts)"
     ],
     "language": "python",
     "metadata": {},
     "outputs": [
      {
       "output_type": "stream",
       "stream": "stdout",
       "text": [
        "geometric mean (avg  cuts)= 408.408886302\n"
       ]
      }
     ],
     "prompt_number": 9
    }
   ],
   "metadata": {}
  }
 ]
}