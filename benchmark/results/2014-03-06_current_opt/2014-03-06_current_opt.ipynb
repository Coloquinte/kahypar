{
 "metadata": {
  "name": "",
  "signature": "sha256:aef338813e6ad62ec29267825b3da40f34a8fb62522f60a0f39c3cf679dc58ce"
 },
 "nbformat": 3,
 "nbformat_minor": 0,
 "worksheets": [
  {
   "cells": [
    {
     "cell_type": "code",
     "collapsed": false,
     "input": [
      "import pandas as pd\n",
      "import pandas.io.sql as pd_sql\n",
      "import sqlite3 as sql\n",
      "\n",
      "connection = sql.connect(\"/home/schlag/repo/schlag_git/benchmark/results/2014-03-06_current_opt/current_opt.db\")\n",
      "data = pd_sql.read_frame(\"select * from experiments where global_search_iterations = 1\",connection)\n",
      "min_cuts = data.groupby('graph')['cut'].min()\n",
      "min_cuts"
     ],
     "language": "python",
     "metadata": {},
     "outputs": [
      {
       "metadata": {},
       "output_type": "pyout",
       "prompt_number": 1,
       "text": [
        "graph\n",
        "avqlarge.hgr      144\n",
        "avqsmall.hgr      143\n",
        "bcsstk32.hgr     4667\n",
        "crystk01.hgr      420\n",
        "cs4.hgr           374\n",
        "ibm03.hgr         971\n",
        "ibm04.hgr         621\n",
        "ibm05.hgr        1729\n",
        "industry2.hgr     180\n",
        "memplus.hgr      6053\n",
        "s15850.hgr         58\n",
        "s35932.hgr         43\n",
        "s38584.hgr         51\n",
        "s3rmq4m1.hgr      360\n",
        "vibrobox.hgr     2477\n",
        "Name: cut, dtype: int64"
       ]
      }
     ],
     "prompt_number": 1
    },
    {
     "cell_type": "code",
     "collapsed": false,
     "input": [
      "from scipy import stats\n",
      "print 'geometric mean (min_cuts)=', stats.gmean(min_cuts)"
     ],
     "language": "python",
     "metadata": {},
     "outputs": [
      {
       "output_type": "stream",
       "stream": "stdout",
       "text": [
        "geometric mean (min_cuts)= 416.159765884\n"
       ]
      }
     ],
     "prompt_number": 2
    },
    {
     "cell_type": "code",
     "collapsed": false,
     "input": [
      "average_cuts = data.groupby('graph')['cut'].mean()\n",
      "print 'geometric mean (avg  cuts)=', stats.gmean(average_cuts)"
     ],
     "language": "python",
     "metadata": {},
     "outputs": [
      {
       "output_type": "stream",
       "stream": "stdout",
       "text": [
        "geometric mean (avg  cuts)= 437.313870704\n"
       ]
      }
     ],
     "prompt_number": 3
    }
   ],
   "metadata": {}
  }
 ]
}